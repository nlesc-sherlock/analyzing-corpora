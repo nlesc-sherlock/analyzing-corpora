{
 "cells": [
  {
   "cell_type": "code",
   "execution_count": 185,
   "metadata": {
    "collapsed": true
   },
   "outputs": [],
   "source": [
    "import numpy as np"
   ]
  },
  {
   "cell_type": "code",
   "execution_count": 186,
   "metadata": {
    "collapsed": false
   },
   "outputs": [],
   "source": [
    "utomat = 'data/enron_lda_15.csv'\n",
    "dictionary = 'data/enron_dic.csv'\n",
    "delim = ','\n",
    "maxword = 10"
   ]
  },
  {
   "cell_type": "code",
   "execution_count": 187,
   "metadata": {
    "collapsed": false
   },
   "outputs": [],
   "source": [
    "# load data\n",
    "with open(dictionary, 'r') as fin: #'data/enron_dic.csv'\n",
    "    lines = fin.readlines()\n",
    "tmpLines = [ line.strip().split('\\t') for line in lines ]\n",
    "dic = { int(l[0]): (l[1].strip('\"')) for l in tmpLines }\n",
    "uto = np.loadtxt(utomat, delimiter=delim) #','\n",
    "# RS1 = uto.sum(axis=1)\n",
    "# RS2 = uto.sum(axis=0)\n",
    "# #normalized word by topic array\n",
    "# utonorm = uto / RS1[:,None]\n",
    "# utonorm = utonorm / RS2[None,:]  "
   ]
  },
  {
   "cell_type": "code",
   "execution_count": 188,
   "metadata": {
    "collapsed": false
   },
   "outputs": [
    {
     "data": {
      "text/plain": [
       "1.0000000000004512"
      ]
     },
     "execution_count": 188,
     "metadata": {},
     "output_type": "execute_result"
    }
   ],
   "source": [
    "sum(uto[:,1])"
   ]
  },
  {
   "cell_type": "code",
   "execution_count": 154,
   "metadata": {
    "collapsed": true
   },
   "outputs": [],
   "source": [
    "# now calculate order of words within each topic (output words)\n",
    "allWords = []\n",
    "for j in range(utoorder.shape[1]):\n",
    "    topic = utoorder[:,j]\n",
    "    tmp = [ dic[str(wordIdx)] for wordIdx in topic ]\n",
    "    allWords.append(tmp)"
   ]
  },
  {
   "cell_type": "code",
   "execution_count": 155,
   "metadata": {
    "collapsed": true
   },
   "outputs": [],
   "source": [
    "#winning topic per word\n",
    "winninguto = utonorm.argmax(axis=1)\n",
    "#frequency table for number of words that are most popular per topic\n",
    "Nwordsto = Counter(winninguto)\n",
    "# now calculate order of word within each topic (output index)\n",
    "utoorder = np.zeros(shape=utonorm.shape)\n",
    "utoorder_words = np.zeros(shape=utonorm.shape)\n",
    "idx = utonorm.argsort(axis=0)\n",
    "utoorder = idx[::-1]\n"
   ]
  },
  {
   "cell_type": "code",
   "execution_count": 159,
   "metadata": {
    "collapsed": false
   },
   "outputs": [
    {
     "data": {
      "image/png": "[encoded data removed]",
      "text/plain": [
       "<matplotlib.figure.Figure at 0x7f4ab41db190>"
      ]
     },
     "metadata": {},
     "output_type": "display_data"
    }
   ],
   "source": [
    "#allWords = np.array(allWords).T\n",
    "allProbs = []\n",
    "for j in range(utoorder.shape[1]):\n",
    "    topic = utoorder[:,j]\n",
    "    tmp = [ utonorm[wordIdx,j] for wordIdx in topic ]\n",
    "    tmp = np.cumsum(tmp)\n",
    "    tmp = 1-tmp\n",
    "    tmp = np.around(tmp,decimals=3) \n",
    "    \n",
    "    allProbs.append(tmp)"
   ]
  },
  {
   "cell_type": "code",
   "execution_count": 143,
   "metadata": {
    "collapsed": false
   },
   "outputs": [
    {
     "data": {
      "text/plain": [
       "array([ 0.,  0.,  0., ...,  0.,  0.,  0.])"
      ]
     },
     "execution_count": 143,
     "metadata": {},
     "output_type": "execute_result"
    }
   ],
   "source": []
  },
  {
   "cell_type": "code",
   "execution_count": 141,
   "metadata": {
    "collapsed": true
   },
   "outputs": [],
   "source": [
    "#merge probabilities and words into one large tuple\n",
    "allProbs_flat = [y for x in allProbs for y in x]\n",
    "allWords_flat = [y for x in allWords for y in x]\n",
    "output = zip(allProbs_flat,allWords_flat)\n",
    "# built dictionary of topics, words and probabilities\n",
    "wpdict = {}\n",
    "ntopics = utonorm.shape[1]\n",
    "nw = utonorm.shape[0]\n",
    "if maxword > nw:\n",
    "    maxword = nw\n",
    "for i in range(ntopics):\n",
    "    i0 = i*nw\n",
    "    wpdict[\"Topic %i\" %(i+1) ] = output[i0:(i0+maxword-1)]"
   ]
  },
  {
   "cell_type": "code",
   "execution_count": 162,
   "metadata": {
    "collapsed": false
   },
   "outputs": [
    {
     "data": {
      "text/plain": [
       "175884"
      ]
     },
     "execution_count": 162,
     "metadata": {},
     "output_type": "execute_result"
    }
   ],
   "source": [
    "len(dic)"
   ]
  }
 ],
 "metadata": {
  "kernelspec": {
   "display_name": "Python 2",
   "language": "python",
   "name": "python2"
  },
  "language_info": {
   "codemirror_mode": {
    "name": "ipython",
    "version": 2
   },
   "file_extension": ".py",
   "mimetype": "text/x-python",
   "name": "python",
   "nbconvert_exporter": "python",
   "pygments_lexer": "ipython2",
   "version": "2.7.6"
  }
 },
 "nbformat": 4,
 "nbformat_minor": 0
}
