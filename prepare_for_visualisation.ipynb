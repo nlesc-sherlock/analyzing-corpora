{
 "cells": [
  {
   "cell_type": "code",
   "execution_count": 2,
   "metadata": {
    "collapsed": true
   },
   "outputs": [],
   "source": [
    "import numpy as np"
   ]
  },
  {
   "cell_type": "code",
   "execution_count": 3,
   "metadata": {
    "collapsed": false
   },
   "outputs": [],
   "source": [
    "with open('data/enron_dic.csv', 'r') as fin:\n",
    "    lines = fin.readlines()\n",
    "\n",
    "tmpLines = [ line.strip().split('\\t') for line in lines ]\n",
    "dic = { l[0]: l[1] for l in tmpLines }"
   ]
  },
  {
   "cell_type": "code",
   "execution_count": 4,
   "metadata": {
    "collapsed": false
   },
   "outputs": [],
   "source": [
    "woto = np.loadtxt('data/enron_lda_15_norm.csv', delimiter=',')"
   ]
  },
  {
   "cell_type": "code",
   "execution_count": 5,
   "metadata": {
    "collapsed": false
   },
   "outputs": [],
   "source": [
    "doto = np.loadtxt('data/enron_document_topics_15.csv', delimiter='\\t')"
   ]
  },
  {
   "cell_type": "code",
   "execution_count": 6,
   "metadata": {
    "collapsed": false
   },
   "outputs": [],
   "source": [
    "RS1 = woto.sum(axis=1)"
   ]
  },
  {
   "cell_type": "code",
   "execution_count": 7,
   "metadata": {
    "collapsed": false
   },
   "outputs": [],
   "source": [
    "#normalized word by topic array\n",
    "wotonorm = woto / RS1[:,None]"
   ]
  },
  {
   "cell_type": "code",
   "execution_count": 8,
   "metadata": {
    "collapsed": false
   },
   "outputs": [],
   "source": [
    "#winning topic per word\n",
    "winningwoto = wotonorm.argmax(axis=1)"
   ]
  },
  {
   "cell_type": "code",
   "execution_count": 9,
   "metadata": {
    "collapsed": false
   },
   "outputs": [],
   "source": [
    "#frequency table for number of words that are most popular per topic\n",
    "from collections import Counter\n",
    "Nwordsto = Counter(winningwoto)"
   ]
  },
  {
   "cell_type": "code",
   "execution_count": 10,
   "metadata": {
    "collapsed": true
   },
   "outputs": [],
   "source": [
    "wotoorder = np.zeros(shape=wotonorm.shape)"
   ]
  },
  {
   "cell_type": "code",
   "execution_count": 11,
   "metadata": {
    "collapsed": false
   },
   "outputs": [],
   "source": [
    "wotoorder_words = np.zeros(shape=wotonorm.shape)"
   ]
  },
  {
   "cell_type": "code",
   "execution_count": 12,
   "metadata": {
    "collapsed": false
   },
   "outputs": [
    {
     "name": "stdout",
     "output_type": "stream",
     "text": [
      "Populating the interactive namespace from numpy and matplotlib\n"
     ]
    }
   ],
   "source": [
    "%pylab inline"
   ]
  },
  {
   "cell_type": "code",
   "execution_count": 13,
   "metadata": {
    "collapsed": false
   },
   "outputs": [],
   "source": [
    "idx = wotonorm.argsort(axis=0)\n",
    "wotoorder = idx[::-1]\n",
    "#wotonorm = wotonorm[::-1]"
   ]
  },
  {
   "cell_type": "code",
   "execution_count": 14,
   "metadata": {
    "collapsed": false
   },
   "outputs": [],
   "source": [
    "allWords = []\n",
    "for j in range(wotoorder.shape[1]):\n",
    "    topic = wotoorder[:,j]\n",
    "    tmp = [ dic[str(wordIdx)] for wordIdx in topic ]\n",
    "    allWords.append(tmp)\n"
   ]
  },
  {
   "cell_type": "code",
   "execution_count": 15,
   "metadata": {
    "collapsed": false
   },
   "outputs": [
    {
     "data": {
      "text/plain": [
       "(175884, 15)"
      ]
     },
     "execution_count": 15,
     "metadata": {},
     "output_type": "execute_result"
    }
   ],
   "source": [
    "np.array(allWords).T.shape"
   ]
  },
  {
   "cell_type": "code",
   "execution_count": 35,
   "metadata": {
    "collapsed": false
   },
   "outputs": [],
   "source": [
    "allProbs = []\n",
    "for j in range(wotoorder.shape[1]):\n",
    "    topic = wotoorder[:,j]\n",
    "    tmp = [ wotonorm[wordIdx,j] for wordIdx in topic ]\n",
    "    allProbs.append(tmp)"
   ]
  },
  {
   "cell_type": "code",
   "execution_count": 38,
   "metadata": {
    "collapsed": false
   },
   "outputs": [],
   "source": [
    "mytuple = zip(allProbs,allWords)"
   ]
  },
  {
   "cell_type": "code",
   "execution_count": null,
   "metadata": {
    "collapsed": true
   },
   "outputs": [],
   "source": []
  },
  {
   "cell_type": "code",
   "execution_count": 43,
   "metadata": {
    "collapsed": true
   },
   "outputs": [],
   "source": [
    "c = map(lambda x,y:(x,y),allProbs,allWords)"
   ]
  },
  {
   "cell_type": "code",
   "execution_count": 62,
   "metadata": {
    "collapsed": false
   },
   "outputs": [
    {
     "data": {
      "text/plain": [
       "175884"
      ]
     },
     "execution_count": 62,
     "metadata": {},
     "output_type": "execute_result"
    }
   ],
   "source": [
    "len(allProbs[0])"
   ]
  },
  {
   "cell_type": "code",
   "execution_count": 63,
   "metadata": {
    "collapsed": true
   },
   "outputs": [],
   "source": [
    "allProbs_backup = allProbs"
   ]
  },
  {
   "cell_type": "code",
   "execution_count": 87,
   "metadata": {
    "collapsed": true
   },
   "outputs": [],
   "source": [
    "allProbs_flat = [y for x in allProbs for y in x]"
   ]
  },
  {
   "cell_type": "code",
   "execution_count": 88,
   "metadata": {
    "collapsed": false
   },
   "outputs": [],
   "source": [
    "allWords_flat = [y for x in allWords for y in x]"
   ]
  },
  {
   "cell_type": "code",
   "execution_count": 89,
   "metadata": {
    "collapsed": false
   },
   "outputs": [],
   "source": [
    "output = zip(allProbs_flat,allWords_flat)"
   ]
  },
  {
   "cell_type": "code",
   "execution_count": 104,
   "metadata": {
    "collapsed": false
   },
   "outputs": [],
   "source": [
    "dict = {}\n",
    "ntopics = wotonorm.shape[1]\n",
    "nw = wotonorm.shape[0]\n",
    "maxword = 10\n",
    "if maxword > nw:\n",
    "    maxword = nw\n",
    "for i in range(ntopics):\n",
    "    i0 = i*nw\n",
    "    dict[\"Topic %i\" %(i) ] = output[i0:(i0+maxword-1)]    "
   ]
  },
  {
   "cell_type": "code",
   "execution_count": 105,
   "metadata": {
    "collapsed": false
   },
   "outputs": [
    {
     "data": {
      "text/plain": [
       "{'Topic 0': [(0.99990799877586944, '\"analyst?internship\"'),\n",
       "  (0.99983268365579792, '\"exalted\"'),\n",
       "  (0.99982520869988012, '\"athletic\"'),\n",
       "  (0.99981215827170411, '\"energy.?this\"'),\n",
       "  (0.99981120608526408, '\"cullison/et&s/enron@enron\"'),\n",
       "  (0.99975611417293953, '\"pure-play\"'),\n",
       "  (0.99972450852976147, '\"giblin/enron_development@enron_development\"'),\n",
       "  (0.99970274887396937, '\"snaps\"'),\n",
       "  (0.99969996753306201, '\"ealvittor@yahoo.com\"')],\n",
       " 'Topic 1': [(0.99996647371692404, '\"hinds\"'),\n",
       "  (0.99996409774244388, '\"haley\"'),\n",
       "  (0.99995469873458476, '\"virginia@clarkfineart.com\"'),\n",
       "  (0.99995266497298885, '\"http://www.cera.com/client/ms_client/index.cfm\"'),\n",
       "  (0.99995083690131725, '\"wgs\"'),\n",
       "  (0.99994183729717634, '\"dwolff@louisberger.com\"'),\n",
       "  (0.99993999268630107, '\"becoming\"'),\n",
       "  (0.99993838812873426, '\"ben.jacoby@enron.com@enron\"'),\n",
       "  (0.99991350589268879, '\"collis/eu/enron@enron\"')],\n",
       " 'Topic 10': [(0.99995170673190947, '\"dul\"'),\n",
       "  (0.99993627370073968, '\"jammi\"'),\n",
       "  (0.99993217027303782, '\"accountit@autorelister.com\"'),\n",
       "  (0.99991458259527155, '\"davis/enron@enronxgate\"'),\n",
       "  (0.99991454057409923, '\"peretti\"'),\n",
       "  (0.99991352723268745, '\"trial-like\"'),\n",
       "  (0.99983920913386104, '\"bailey/laurie\"'),\n",
       "  (0.99982295695133316, '\"ne4005\"'),\n",
       "  (0.99980972906666832, '\"sirri@babson.edu\"')],\n",
       " 'Topic 11': [(0.99998535195735483, '\"d\\'souza\"'),\n",
       "  (0.99984584455221959, '\"hematite\"'),\n",
       "  (0.99981615543282865, '\"fiserv\"'),\n",
       "  (0.99974425311935655, '\"rod\"'),\n",
       "  (0.99970939112067736, '\"matthew.picardi@dynegy.com\"'),\n",
       "  (0.99968964927290493, '\"favor\"'),\n",
       "  (0.99968792357828984, '\"racist\"'),\n",
       "  (0.99964624959588799, '\"102(b\"'),\n",
       "  (0.99963456021492292, '\"luu/en\"')],\n",
       " 'Topic 12': [(0.99993534053828714, '\"kim/lon/ect@ect\"'),\n",
       "  (0.99983994600264692, '\"transportation@enron\"'),\n",
       "  (0.9997161550312782, '\"transneft\"'),\n",
       "  (0.99969814525452949, '\"dili\"'),\n",
       "  (0.9996646775270337, '\"showy\"'),\n",
       "  (0.99965868564940408, '\"landmines\"'),\n",
       "  (0.99964144712419045, '\"http://internet.com/sections/isp.html\"'),\n",
       "  (0.99960253469266391, '\"rrcs_98@yahoo.com\"'),\n",
       "  (0.99956945565018951, '\"openvob\"')],\n",
       " 'Topic 13': [(0.99994664821010626, '\"all-optical\"'),\n",
       "  (0.99990199121735457, '\"spellane\"'),\n",
       "  (0.9999008510426578, '\"25.5\"'),\n",
       "  (0.99989193836835455, '\"occu\"'),\n",
       "  (0.9998884939860434,\n",
       "   '\"http://www.companysleuth.com/login/email_login.cfm?actiontype=6&username=alewis34&ticker=ames\"'),\n",
       "  (0.99985308261014216, '\"scriba\"'),\n",
       "  (0.99982938529330723, '\"overfield/enron@euenronxgate\"'),\n",
       "  (0.9998269961555194, '\"maxey\"'),\n",
       "  (0.9998124507478886, '\"seitles\"')],\n",
       " 'Topic 14': [(0.99998773022926435, '\"chiyoda-ku\"'),\n",
       "  (0.99998750761399469, '\"emsequalnolife@aol.com\"'),\n",
       "  (0.99998747675117305, '\"optimizing\"'),\n",
       "  (0.999986454773376, '\"paragraphs\"'),\n",
       "  (0.9999864432658998, '\"dispenses\"'),\n",
       "  (0.99997454660284191, '\"continual\"'),\n",
       "  (0.99996370302806492, '\"biee\"'),\n",
       "  (0.99996346818013548, '\"0463515.04)(see\"'),\n",
       "  (0.99996345646353402,\n",
       "   '\"aaaaaaaaaaaaapoaaaaaaaaaaaaaaad8aaaaaaaaaaaaaaaa/aaaaaaaaaaaaaaaapuaaaaaaaaa\"')],\n",
       " 'Topic 2': [(0.99996647371692404, '\"bated\"'),\n",
       "  (0.99996409774244388, '\"cash/enro\"'),\n",
       "  (0.99995469873458476, '\"john.hogan@mirant.com\"'),\n",
       "  (0.99995266497298885, '\"rachel.king@elpaso.com\"'),\n",
       "  (0.99995083690131725, '\"gerne\"'),\n",
       "  (0.99994183729717634, '\"ooo\"'),\n",
       "  (0.99993999268630107, '\"dewolf\"'),\n",
       "  (0.99993838812873426, '\"lowson\"'),\n",
       "  (0.99991350589268879, '\"brr270\"')],\n",
       " 'Topic 3': [(0.99999524212148361, '\"normandy\"'),\n",
       "  (0.99998323575669557, '\"tim.jones@mgltd.com\"'),\n",
       "  (0.99998208063318683, '\"p-e\"'),\n",
       "  (0.99998197984215265, '\"lty\"'),\n",
       "  (0.99998158969209194, '\"zito\"'),\n",
       "  (0.99997536444507196, '\"mechanisms\"'),\n",
       "  (0.99997496450878387, '\"vickery\"'),\n",
       "  (0.99997412460301527, '\"bigotry\"'),\n",
       "  (0.99997335459143533, '\"grisaffi\"')],\n",
       " 'Topic 4': [(0.99995400050686434, '\"dakota\"'),\n",
       "  (0.99994381378847275, '\"r-share\"'),\n",
       "  (0.9999081757717232, '\"fosse\"'),\n",
       "  (0.99984996271996163, '\"cornhusker\"'),\n",
       "  (0.99983248211875753, '\">davis\"'),\n",
       "  (0.99981227800056416, '\"co-pay\"'),\n",
       "  (0.9998072364104007, '\"co-based\"'),\n",
       "  (0.99974691731912046, '\"nyse:gm\"'),\n",
       "  (0.99968952717042692, '\"place-kicking\"')],\n",
       " 'Topic 5': [(0.99997777227182694, '\"gisselle\"'),\n",
       "  (0.99997410012004007, '\"jwilson@saybrook.net\"'),\n",
       "  (0.99995498603505206, '\"danielson/hou/ect@ect\"'),\n",
       "  (0.99995271202983038, '\"clinching\"'),\n",
       "  (0.99994940958052181, '\"sioner.com\"'),\n",
       "  (0.9999466433287626, '\"snared\"'),\n",
       "  (0.99994625579138152, '\"10/1\"'),\n",
       "  (0.99994268496390282, '\"03-31-00daily\"'),\n",
       "  (0.9999395123698589, '\"day-ahead\"')],\n",
       " 'Topic 6': [(0.99989430471940288, '\"ann_munson@bmc.com\"'),\n",
       "  (0.99987003991618795, '\"beastie\"'),\n",
       "  (0.99985681129985371, '\"ecorp\"'),\n",
       "  (0.99984299558986767, '\"stab\"'),\n",
       "  (0.99984011623756575, '\"correl\"'),\n",
       "  (0.99979895263108054, '\"mlokay@enron.com\"'),\n",
       "  (0.99967009286858743, '\"eurobond\"'),\n",
       "  (0.99966994386989316, '\"withdr\"'),\n",
       "  (0.99964382895267268, '\"fad\"')],\n",
       " 'Topic 7': [(0.99983244376946845, '\"wszystkim\"'),\n",
       "  (0.99973046875958127, '\"quiche\"'),\n",
       "  (0.99959990297388601, '\"devia\"'),\n",
       "  (0.99951235536556682, '\"story.\"\"i\"'),\n",
       "  (0.99949403246983481, '\"peakers---well-functioning\"'),\n",
       "  (0.9994144423756558, '\"lanam\"'),\n",
       "  (0.9993608540512684, '\"http://www.ase.org\"'),\n",
       "  (0.99933892422206694, '\"koshikawa\"'),\n",
       "  (0.99930867888494368, '\"kallen3@enron.com\"')],\n",
       " 'Topic 8': [(0.99994409259261352, '\"mikva\"'),\n",
       "  (0.99992258056188776, '\"schwabalerts\"'),\n",
       "  (0.99991856710847604, '\"romm\"'),\n",
       "  (0.99990178977211097, '\"rfp3\"'),\n",
       "  (0.99989991531754063, '\"minns/enron_development@enron_development\"'),\n",
       "  (0.99986838146722701, '\"collector\"'),\n",
       "  (0.9998469486528998, '\"zealots\"'),\n",
       "  (0.99984333722621077, '\"o\\'gorman\"'),\n",
       "  (0.99983946926676215, '\"administration/ferc\"')],\n",
       " 'Topic 9': [(0.99996330254806642, '\"technip-coflexip\"'),\n",
       "  (0.99990127376016646, '\"b6\"'),\n",
       "  (0.99989184840406886, '\"jkushan@pgfm.com\"'),\n",
       "  (0.99988860689801529,\n",
       "   '\"http://www.reactionsnet.com/conferences/viewstory.asp?id\"'),\n",
       "  (0.99988628409805391, '\"technological\"'),\n",
       "  (0.99982123745404317, '\"copamex\"'),\n",
       "  (0.99976724892338731, '\"any/\"'),\n",
       "  (0.99969560017877745, '\"inexpensively\"'),\n",
       "  (0.99968031423011305,\n",
       "   '\"chbyb3byawf0zsbwyxj0eswgawygyxbwbgljywjszswgawygdghlie5hdglvbmfsiensaw1hdglj\"')]}"
      ]
     },
     "execution_count": 105,
     "metadata": {},
     "output_type": "execute_result"
    }
   ],
   "source": [
    "dict"
   ]
  },
  {
   "cell_type": "code",
   "execution_count": null,
   "metadata": {
    "collapsed": true
   },
   "outputs": [],
   "source": []
  }
 ],
 "metadata": {
  "kernelspec": {
   "display_name": "Python 2",
   "language": "python",
   "name": "python2"
  },
  "language_info": {
   "codemirror_mode": {
    "name": "ipython",
    "version": 2
   },
   "file_extension": ".py",
   "mimetype": "text/x-python",
   "name": "python",
   "nbconvert_exporter": "python",
   "pygments_lexer": "ipython2",
   "version": "2.7.6"
  }
 },
 "nbformat": 4,
 "nbformat_minor": 0
}
