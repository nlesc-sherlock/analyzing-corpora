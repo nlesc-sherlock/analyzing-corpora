{
 "cells": [
  {
   "cell_type": "code",
   "execution_count": 1,
   "metadata": {
    "collapsed": false
   },
   "outputs": [],
   "source": [
    "from glob2 import glob"
   ]
  },
  {
   "cell_type": "code",
   "execution_count": 2,
   "metadata": {
    "collapsed": false
   },
   "outputs": [],
   "source": [
    "from email.parser import Parser"
   ]
  },
  {
   "cell_type": "code",
   "execution_count": 3,
   "metadata": {
    "collapsed": true
   },
   "outputs": [],
   "source": [
    "import os"
   ]
  },
  {
   "cell_type": "code",
   "execution_count": 4,
   "metadata": {
    "collapsed": true
   },
   "outputs": [],
   "source": [
    "def extractEmailBody(filename):\n",
    "    with open(filename, 'r') as fin:\n",
    "        mail = fin.readlines()\n",
    "        mail = ''.join(mail)\n",
    "        msg = Parser().parsestr(mail)\n",
    "        return msg.get_payload()"
   ]
  },
  {
   "cell_type": "code",
   "execution_count": 5,
   "metadata": {
    "collapsed": false
   },
   "outputs": [],
   "source": [
    "def removeQuotedText(body):\n",
    "    # Remove everything after 'Original Message'\n",
    "    cutIdx = body.find('-----Original Message')\n",
    "    if cutIdx!=-1:\n",
    "        body = body[:cutIdx]\n",
    "    return body"
   ]
  },
  {
   "cell_type": "code",
   "execution_count": 6,
   "metadata": {
    "collapsed": true
   },
   "outputs": [],
   "source": [
    "def saveEmailBody(filename, body):\n",
    "    dirname = os.path.dirname(filename)\n",
    "    if not os.path.exists(dirname):\n",
    "        os.makedirs(dirname)\n",
    "    with open(filename, 'w') as fout:\n",
    "        fout.write(body)"
   ]
  },
  {
   "cell_type": "code",
   "execution_count": 7,
   "metadata": {
    "collapsed": false
   },
   "outputs": [],
   "source": [
    "basedir = 'enron_mail'\n",
    "savedir = 'enron_mail_clean'\n",
    "docs = glob(basedir + '/**/*.')"
   ]
  },
  {
   "cell_type": "code",
   "execution_count": 20,
   "metadata": {
    "collapsed": false
   },
   "outputs": [],
   "source": [
    "for doc in docs:\n",
    "    try:\n",
    "        body = extractEmailBody(doc)\n",
    "        body = removeQuotedText(body)\n",
    "        newDoc = doc.replace(basedir, savedir)\n",
    "        saveEmailBody(newDoc, body)\n",
    "    except Exception as e:\n",
    "        print \"Error with doc: \", doc"
   ]
  },
  {
   "cell_type": "code",
   "execution_count": 8,
   "metadata": {
    "collapsed": true
   },
   "outputs": [],
   "source": [
    "docs = glob(savedir + '/**/*.')"
   ]
  },
  {
   "cell_type": "code",
   "execution_count": 9,
   "metadata": {
    "collapsed": true
   },
   "outputs": [],
   "source": [
    "from nltk.tokenize import RegexpTokenizer"
   ]
  },
  {
   "cell_type": "code",
   "execution_count": 27,
   "metadata": {
    "collapsed": false
   },
   "outputs": [],
   "source": [
    "vocab = set()\n",
    "\n",
    "tokenizer = RegexpTokenizer('\\w+|\\$[\\d\\.]+|\\S+')\n",
    "\n",
    "for doc in docs:\n",
    "    with open(doc, 'r') as fin:\n",
    "        mail = fin.readlines()\n",
    "        mail = ''.join(mail)\n",
    "        tokens = tokenizer.tokenize(mail)\n",
    "        tokens = [ t.lower() for t in tokens ]\n",
    "        vocab.update(tokens)"
   ]
  },
  {
   "cell_type": "code",
   "execution_count": 10,
   "metadata": {
    "collapsed": true
   },
   "outputs": [],
   "source": [
    "import gensim"
   ]
  },
  {
   "cell_type": "code",
   "execution_count": 29,
   "metadata": {
    "collapsed": true
   },
   "outputs": [],
   "source": [
    "def docList(docs):\n",
    "    for doc in docs:\n",
    "        with open(doc, 'r') as fin:\n",
    "            mail = fin.readlines()\n",
    "            mail = ''.join(mail)\n",
    "            tokens = tokenizer.tokenize(mail)\n",
    "            tokens = [ t.lower() for t in tokens ]\n",
    "            yield tokens"
   ]
  },
  {
   "cell_type": "code",
   "execution_count": 51,
   "metadata": {
    "collapsed": false
   },
   "outputs": [],
   "source": [
    "dic = gensim.corpora.Dictionary.from_documents(docList(docs))"
   ]
  },
  {
   "cell_type": "code",
   "execution_count": 54,
   "metadata": {
    "collapsed": false
   },
   "outputs": [],
   "source": [
    "dic.save('enron_vocab.gensim.dic')"
   ]
  },
  {
   "cell_type": "code",
   "execution_count": 63,
   "metadata": {
    "collapsed": true
   },
   "outputs": [],
   "source": [
    "dic = gensim.corpora.Dictionary.load('enron_vocab.gensim.dic')"
   ]
  },
  {
   "cell_type": "code",
   "execution_count": 74,
   "metadata": {
    "collapsed": true
   },
   "outputs": [],
   "source": [
    "# Load\n",
    "# dic = gensim.corpora.Dictionary.load('enron_vocab.gensim.dic')\n",
    "\n",
    "# Remove ignore tokens: \n",
    "# dic.filter_tokens(bad_ids=[277, 339])"
   ]
  },
  {
   "cell_type": "code",
   "execution_count": 59,
   "metadata": {
    "collapsed": false
   },
   "outputs": [
    {
     "name": "stdout",
     "output_type": "stream",
     "text": [
      "Word  \"from\"     (id=   111) appears 194178 times in corpus\n",
      "Word  \"a\"        (id=   129) appears 294818 times in corpus\n",
      "Word  \"this\"     (id=   148) appears 245405 times in corpus\n",
      "Word  \"all\"      (id=   187) appears 123167 times in corpus\n",
      "Word  \"is\"       (id=   277) appears 273785 times in corpus\n",
      "Word  \"email\"    (id=   763) appears  53633 times in corpus\n",
      "Word  \"sample\"   (id=   912) appears   2641 times in corpus\n",
      "Word  \"hello\"    (id= 13515) appears   6611 times in corpus\n"
     ]
    }
   ],
   "source": [
    "# Notice that texcatlipocatl does not appear in the corpus\n",
    "email = 'hello all this is a sample email from texcatlipocatl'.split()\n",
    "emailIds = dic.doc2bow(email)\n",
    "for id,count in emailIds:\n",
    "    print 'Word  %-10s (id=%6d) appears %6d times in corpus'%('\"'+dic[id]+'\"',id,dic.dfs[id])"
   ]
  },
  {
   "cell_type": "code",
   "execution_count": 66,
   "metadata": {
    "collapsed": false
   },
   "outputs": [
    {
     "name": "stdout",
     "output_type": "stream",
     "text": [
      "Word  \"email\"    (id= 17171) appears  53633 times in corpus\n",
      "Word  \"sample\"   (id=350196) appears   2641 times in corpus\n",
      "Word  \"hello\"    (id=830234) appears   6611 times in corpus\n"
     ]
    }
   ],
   "source": [
    "stopwords = 'all this is a from '.split()\n",
    "stopwordIds = [ id for id,count in dic.doc2bow(stopwords) ]\n",
    "dic.filter_tokens(bad_ids=stopwordIds)\n",
    "\n",
    "email = 'hello all this is a sample email from texcatlipocatl'.split()\n",
    "emailIds = dic.doc2bow(email)\n",
    "for id,count in emailIds:\n",
    "    print 'Word  %-10s (id=%6d) appears %6d times in corpus'%('\"'+dic[id]+'\"',id,dic.dfs[id])"
   ]
  },
  {
   "cell_type": "code",
   "execution_count": 11,
   "metadata": {
    "collapsed": true
   },
   "outputs": [],
   "source": [
    "dic = gensim.corpora.Dictionary.load('enron_vocab.gensim.dic')"
   ]
  },
  {
   "cell_type": "code",
   "execution_count": 25,
   "metadata": {
    "collapsed": false
   },
   "outputs": [
    {
     "data": {
      "text/plain": [
       "(49726, 4)"
      ]
     },
     "execution_count": 25,
     "metadata": {},
     "output_type": "execute_result"
    }
   ],
   "source": [
    "dic.dfs[0], dic.dfs[343881]"
   ]
  },
  {
   "cell_type": "code",
   "execution_count": 29,
   "metadata": {
    "collapsed": false
   },
   "outputs": [
    {
     "name": "stdout",
     "output_type": "stream",
     "text": [
      "Populating the interactive namespace from numpy and matplotlib\n"
     ]
    }
   ],
   "source": [
    "%pylab inline"
   ]
  },
  {
   "cell_type": "code",
   "execution_count": 40,
   "metadata": {
    "collapsed": false
   },
   "outputs": [
    {
     "data": {
      "text/plain": [
       "[<matplotlib.lines.Line2D at 0x7f262e17c550>]"
      ]
     },
     "execution_count": 40,
     "metadata": {},
     "output_type": "execute_result"
    },
    {
     "data": {
      "image/png": "[encoded data removed]",
      "text/plain": [
       "<matplotlib.figure.Figure at 0x7f262da541d0>"
      ]
     },
     "metadata": {},
     "output_type": "display_data"
    }
   ],
   "source": [
    "x = dic.dfs.values()\n",
    "x = sorted(x)\n",
    "x = x[::-1]\n",
    "loglog(x)"
   ]
  },
  {
   "cell_type": "code",
   "execution_count": 21,
   "metadata": {
    "collapsed": false,
    "scrolled": false
   },
   "outputs": [],
   "source": [
    "# Email stop quoted text markers\n",
    "\n",
    "# -----Original Message-----\n",
    "# \"James Robinson (CES)\" <cypress@neosoft.com> on 08/05/99 04:31:16 PM\n",
    "# ---------------------- Forwarded by Louis Soldano/ET&S/Enron on 06/02/99 01:12 PM ---------------------------\n",
    "# > \n",
    "# msg = Parser().parsestr(msg).get_payload() N times"
   ]
  },
  {
   "cell_type": "markdown",
   "metadata": {
    "collapsed": true
   },
   "source": [
    "# Outline\n",
    "Say we have $N=10$ topics (although this is arbitrary and I don't like it). For each document (email) we can calculate which topics make it up and on what proportion\n",
    "\n",
    " - Email 1: 10% Topic 1,  5% Topic 2, 15% Topic 3...\n",
    " - Email 2:  5% Topic 1, 25% Topic 2,  7% Topic 3...\n",
    " - Email 3: 30% Topic 1, 15% Topic 2,  5% Topic 3...\n",
    " - etc\n",
    "\n",
    "Using this, can we compute a distance between documents?\n",
    "\n",
    "Also, keep in mind that each topic provides a probability distribution of words. Meaning that:\n",
    "\n",
    " - Topic 1: 5% \"dog\", 10% \"cat\", 7% \"wolf\"\n",
    " - Topic 2: 7% \"car\", 20% \"train\", 1% \"boat\"\n",
    " - Topic 3: 8% \"dog\", 15% \"house\", 13% \"tree\"\n",
    "\n",
    "If we can calculate the distance between two documents (using cosine similarity, for instance) we can build a distance matrix from every email to every other email. We can use such a distance matrix to construct a 'map' where we place documents in a 2D space, clustering together documents which are similar to other documents -- this is easy using MDS."
   ]
  }
 ],
 "metadata": {
  "kernelspec": {
   "display_name": "Python 2",
   "language": "python",
   "name": "python2"
  },
  "language_info": {
   "codemirror_mode": {
    "name": "ipython",
    "version": 2
   },
   "file_extension": ".py",
   "mimetype": "text/x-python",
   "name": "python",
   "nbconvert_exporter": "python",
   "pygments_lexer": "ipython2",
   "version": "2.7.8"
  }
 },
 "nbformat": 4,
 "nbformat_minor": 0
}
