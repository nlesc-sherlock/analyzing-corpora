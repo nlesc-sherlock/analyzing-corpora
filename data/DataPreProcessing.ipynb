{
 "cells": [
  {
   "cell_type": "code",
   "execution_count": 1,
   "metadata": {
    "collapsed": false
   },
   "outputs": [],
   "source": [
    "import pandas as pd\n",
    "import nltk\n",
    "from pattern.nl import parse, split"
   ]
  },
  {
   "cell_type": "code",
   "execution_count": 2,
   "metadata": {
    "collapsed": false
   },
   "outputs": [],
   "source": [
    "data_vraag = pd.read_excel('Overzicht-vragen-en-clusters-150721.xlsx', sheetname='vragen met toelichting')"
   ]
  },
  {
   "cell_type": "code",
   "execution_count": 3,
   "metadata": {
    "collapsed": false
   },
   "outputs": [],
   "source": [
    "# Clean genders\n",
    "data_vraag['Gender'] = data_vraag['Man of vrouw']\n",
    "data_vraag['Gender'] = data_vraag['Gender'].fillna('other')\n",
    "data_vraag['Gender'] = data_vraag['Gender'].replace('man, vrouw', 'other')"
   ]
  },
  {
   "cell_type": "code",
   "execution_count": 4,
   "metadata": {
    "collapsed": false
   },
   "outputs": [],
   "source": [
    "# Append title and text\n",
    "data_vraag['FullText'] = data_vraag['Titel'] + ' ' + data_vraag['Inhoud']"
   ]
  },
  {
   "cell_type": "code",
   "execution_count": 5,
   "metadata": {
    "collapsed": false
   },
   "outputs": [],
   "source": [
    "stopwords = nltk.corpus.stopwords.words('dutch')\n",
    "stopwords += nltk.corpus.stopwords.words('english')\n",
    "stopwords += ['','.',',','?','(',')',',',':',\"'\",u'``',u\"''\",';','-','!','%','&','...','=','we','wij']\n",
    "stopwords += [u'\\u2019',u'\\u2018',u'\\u2013',u'\\u2022',u'\\u2014',u'\\uf02d',u'\\u20ac',u'\\u2026']"
   ]
  },
  {
   "cell_type": "code",
   "execution_count": 6,
   "metadata": {
    "collapsed": false
   },
   "outputs": [],
   "source": [
    "keepTags = [\n",
    "    # None, u'(', u')', u',', u'.', u'<notranslation>damesbladen', # extras\n",
    "    # u'CC', # conjunction\n",
    "    # u'CD', # cardinal (numbers)\n",
    "    # u'DT', # determiner (de, het)\n",
    "    u'FW', # foreign word\n",
    "    # u'IN', #conjunction\n",
    "    u'JJ', # adjectives -- # u'JJR', u'JJS',\n",
    "    # u'MD', # Modal verb\n",
    "    u'NN', u'NNP', u'NNPS', u'NNS', # Nouns\n",
    "    # u'PRP', # Pronouns -- # u'PRP$',\n",
    "    u'RB', # adverb\n",
    "    u'RP', # adverb\n",
    "    # u'SYM', # Symbol\n",
    "    # u'TO', # infinitival to\n",
    "    # u'UH', # interjection\n",
    "    u'VB', u'VBD', u'VBG', u'VBN', u'VBP', u'VBZ' # Verb forms\n",
    "]"
   ]
  },
  {
   "cell_type": "code",
   "execution_count": 7,
   "metadata": {
    "collapsed": false
   },
   "outputs": [],
   "source": [
    "def cleanup(sentText):\n",
    "    words = []\n",
    "    for s in split(parse(sentText)):\n",
    "        for word, tag in s.tagged:\n",
    "            if tag in keepTags:\n",
    "                words.append(word.lower())\n",
    "    words = [ w for w in words if w not in stopwords ]\n",
    "    return words"
   ]
  },
  {
   "cell_type": "code",
   "execution_count": null,
   "metadata": {
    "collapsed": true
   },
   "outputs": [],
   "source": []
  },
  {
   "cell_type": "code",
   "execution_count": 8,
   "metadata": {
    "collapsed": false,
    "scrolled": true
   },
   "outputs": [],
   "source": [
    "data_vraag['SentToks'] = data_vraag['FullText'].apply(cleanup)"
   ]
  },
  {
   "cell_type": "code",
   "execution_count": 10,
   "metadata": {
    "collapsed": false
   },
   "outputs": [],
   "source": [
    "data_vraag.to_pickle('preprocessedData.pkl')"
   ]
  },
  {
   "cell_type": "code",
   "execution_count": null,
   "metadata": {
    "collapsed": true
   },
   "outputs": [],
   "source": []
  },
  {
   "cell_type": "code",
   "execution_count": 10,
   "metadata": {
    "collapsed": false
   },
   "outputs": [],
   "source": [
    "origSent = data_vraag['FullText'][0]\n",
    "cleanSent = cleanup(origSent)"
   ]
  },
  {
   "cell_type": "code",
   "execution_count": 14,
   "metadata": {
    "collapsed": false
   },
   "outputs": [
    {
     "name": "stdout",
     "output_type": "stream",
     "text": [
      "Cleanup process transforms a sentence from this format:\n",
      "=======================================================\n",
      "Hoe kan je, binnen de context van mondiale veranderingsprocessen, inclusieve ontwikkeling bevorderen? Is het opportuun om te blijven focussen op Nederland, in deze tijden van massale migratie, wereldwijde instabiliteit en economische onzekerheid? 2015 is uitgeroepen tot 'het Europees Jaar voor Ontwikkeling'. Hoe kan Nederland bijdragen aan inclusieve mondiale ontwikkeling? \n",
      "=======================================================\n",
      "to a bag-of-words like this:\n",
      "=======================================================\n",
      "[u'context', u'mondiale', u'veranderingsprocessen', u'inclusieve', u'ontwikkeling', u'bevorderen', u'opportuun', u'focussen', u'nederland', u'tijden', u'massale', u'migratie', u'wereldwijde', u'instabiliteit', u'economische', u'onzekerheid', u'uitgeroepen', u'europees', u'jaar', u'ontwikkeling', u'nederland', u'bijdragen', u'inclusieve', u'mondiale', u'ontwikkeling']\n"
     ]
    }
   ],
   "source": [
    "print 'Cleanup process transforms a sentence from this format:'\n",
    "print '======================================================='\n",
    "print origSent\n",
    "print '======================================================='\n",
    "print 'to a bag-of-words like this:'\n",
    "print '======================================================='\n",
    "print cleanSent"
   ]
  }
 ],
 "metadata": {
  "kernelspec": {
   "display_name": "Python 2",
   "language": "python",
   "name": "python2"
  },
  "language_info": {
   "codemirror_mode": {
    "name": "ipython",
    "version": 2
   },
   "file_extension": ".py",
   "mimetype": "text/x-python",
   "name": "python",
   "nbconvert_exporter": "python",
   "pygments_lexer": "ipython2",
   "version": "2.7.8"
  }
 },
 "nbformat": 4,
 "nbformat_minor": 0
}
